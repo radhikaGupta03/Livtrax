{
 "cells": [
  {
   "cell_type": "markdown",
   "id": "a3c25afe",
   "metadata": {},
   "source": [
    "#Load The Dataset"
   ]
  },
  {
   "cell_type": "code",
   "execution_count": 2,
   "metadata": {},
   "outputs": [],
   "source": [
    "import pandas as pd"
   ]
  },
  {
   "cell_type": "code",
   "execution_count": 3,
   "id": "d75673f4",
   "metadata": {},
   "outputs": [
    {
     "name": "stdout",
     "output_type": "stream",
     "text": [
      "(374, 13)\n",
      "   Person ID Gender  Age            Occupation  Sleep Duration  \\\n",
      "0          1   Male   27     Software Engineer             6.1   \n",
      "1          2   Male   28                Doctor             6.2   \n",
      "2          3   Male   28                Doctor             6.2   \n",
      "3          4   Male   28  Sales Representative             5.9   \n",
      "4          5   Male   28  Sales Representative             5.9   \n",
      "\n",
      "   Quality of Sleep  Physical Activity Level  Stress Level BMI Category  \\\n",
      "0                 6                       42             6   Overweight   \n",
      "1                 6                       60             8       Normal   \n",
      "2                 6                       60             8       Normal   \n",
      "3                 4                       30             8        Obese   \n",
      "4                 4                       30             8        Obese   \n",
      "\n",
      "  Blood Pressure  Heart Rate  Daily Steps Sleep Disorder  \n",
      "0         126/83          77         4200           None  \n",
      "1         125/80          75        10000           None  \n",
      "2         125/80          75        10000           None  \n",
      "3         140/90          85         3000    Sleep Apnea  \n",
      "4         140/90          85         3000    Sleep Apnea  \n"
     ]
    }
   ],
   "source": [
    "df = pd.read_csv(r\"C:\\Projects\\Livtrax\\Livtrax\\data\\raw\\Sleep_health_and_lifestyle_dataset.csv\")\n",
    "\n",
    "print(df.shape)\n",
    "print(df.head())\n"
   ]
  },
  {
   "cell_type": "markdown",
   "id": "27208059",
   "metadata": {},
   "source": [
    "Explore The Dataset"
   ]
  },
  {
   "cell_type": "code",
   "execution_count": 4,
   "id": "ec9cff98",
   "metadata": {},
   "outputs": [
    {
     "name": "stdout",
     "output_type": "stream",
     "text": [
      "<class 'pandas.core.frame.DataFrame'>\n",
      "RangeIndex: 374 entries, 0 to 373\n",
      "Data columns (total 13 columns):\n",
      " #   Column                   Non-Null Count  Dtype  \n",
      "---  ------                   --------------  -----  \n",
      " 0   Person ID                374 non-null    int64  \n",
      " 1   Gender                   374 non-null    object \n",
      " 2   Age                      374 non-null    int64  \n",
      " 3   Occupation               374 non-null    object \n",
      " 4   Sleep Duration           374 non-null    float64\n",
      " 5   Quality of Sleep         374 non-null    int64  \n",
      " 6   Physical Activity Level  374 non-null    int64  \n",
      " 7   Stress Level             374 non-null    int64  \n",
      " 8   BMI Category             374 non-null    object \n",
      " 9   Blood Pressure           374 non-null    object \n",
      " 10  Heart Rate               374 non-null    int64  \n",
      " 11  Daily Steps              374 non-null    int64  \n",
      " 12  Sleep Disorder           374 non-null    object \n",
      "dtypes: float64(1), int64(7), object(5)\n",
      "memory usage: 38.1+ KB\n",
      "        Person ID         Age  Sleep Duration  Quality of Sleep  \\\n",
      "count  374.000000  374.000000      374.000000        374.000000   \n",
      "mean   187.500000   42.184492        7.132086          7.312834   \n",
      "std    108.108742    8.673133        0.795657          1.196956   \n",
      "min      1.000000   27.000000        5.800000          4.000000   \n",
      "25%     94.250000   35.250000        6.400000          6.000000   \n",
      "50%    187.500000   43.000000        7.200000          7.000000   \n",
      "75%    280.750000   50.000000        7.800000          8.000000   \n",
      "max    374.000000   59.000000        8.500000          9.000000   \n",
      "\n",
      "       Physical Activity Level  Stress Level  Heart Rate   Daily Steps  \n",
      "count               374.000000    374.000000  374.000000    374.000000  \n",
      "mean                 59.171123      5.385027   70.165775   6816.844920  \n",
      "std                  20.830804      1.774526    4.135676   1617.915679  \n",
      "min                  30.000000      3.000000   65.000000   3000.000000  \n",
      "25%                  45.000000      4.000000   68.000000   5600.000000  \n",
      "50%                  60.000000      5.000000   70.000000   7000.000000  \n",
      "75%                  75.000000      7.000000   72.000000   8000.000000  \n",
      "max                  90.000000      8.000000   86.000000  10000.000000  \n",
      "Person ID                  0\n",
      "Gender                     0\n",
      "Age                        0\n",
      "Occupation                 0\n",
      "Sleep Duration             0\n",
      "Quality of Sleep           0\n",
      "Physical Activity Level    0\n",
      "Stress Level               0\n",
      "BMI Category               0\n",
      "Blood Pressure             0\n",
      "Heart Rate                 0\n",
      "Daily Steps                0\n",
      "Sleep Disorder             0\n",
      "dtype: int64\n"
     ]
    }
   ],
   "source": [
    "# info about each column\n",
    "df.info()\n",
    "\n",
    "# quick numerical summary\n",
    "print(df.describe())\n",
    "\n",
    "# check for missing values\n",
    "print(df.isnull().sum())"
   ]
  },
  {
   "cell_type": "markdown",
   "id": "8e774c1c",
   "metadata": {},
   "source": [
    "Clean The Dataset"
   ]
  },
  {
   "cell_type": "code",
   "execution_count": 7,
   "id": "14e94154",
   "metadata": {},
   "outputs": [],
   "source": [
    "import numpy as np\n",
    "\n",
    "# list numeric columns\n",
    "numeric_cols = df.select_dtypes(include=[np.number]).columns\n",
    "\n",
    "# fill NaN with column mean\n",
    "df[numeric_cols] = df[numeric_cols].fillna(df[numeric_cols].mean())\n"
   ]
  },
  {
   "cell_type": "code",
   "execution_count": 9,
   "id": "bbacdca9",
   "metadata": {},
   "outputs": [
    {
     "data": {
      "image/png": "[encoded data removed]",
      "text/plain": [
       "<Figure size 640x480 with 1 Axes>"
      ]
     },
     "metadata": {},
     "output_type": "display_data"
    },
    {
     "name": "stdout",
     "output_type": "stream",
     "text": [
      "                         Person ID       Age  Sleep Duration  \\\n",
      "Person ID                 1.000000  0.990516        0.296305   \n",
      "Age                       0.990516  1.000000        0.344709   \n",
      "Sleep Duration            0.296305  0.344709        1.000000   \n",
      "Quality of Sleep          0.431612  0.473734        0.883213   \n",
      "Physical Activity Level   0.149882  0.178993        0.212360   \n",
      "Stress Level             -0.394287 -0.422344       -0.811023   \n",
      "Heart Rate               -0.225467 -0.225606       -0.516455   \n",
      "Daily Steps               0.043844  0.057973       -0.039533   \n",
      "\n",
      "                         Quality of Sleep  Physical Activity Level  \\\n",
      "Person ID                        0.431612                 0.149882   \n",
      "Age                              0.473734                 0.178993   \n",
      "Sleep Duration                   0.883213                 0.212360   \n",
      "Quality of Sleep                 1.000000                 0.192896   \n",
      "Physical Activity Level          0.192896                 1.000000   \n",
      "Stress Level                    -0.898752                -0.034134   \n",
      "Heart Rate                      -0.659865                 0.136971   \n",
      "Daily Steps                      0.016791                 0.772723   \n",
      "\n",
      "                         Stress Level  Heart Rate  Daily Steps  \n",
      "Person ID                   -0.394287   -0.225467     0.043844  \n",
      "Age                         -0.422344   -0.225606     0.057973  \n",
      "Sleep Duration              -0.811023   -0.516455    -0.039533  \n",
      "Quality of Sleep            -0.898752   -0.659865     0.016791  \n",
      "Physical Activity Level     -0.034134    0.136971     0.772723  \n",
      "Stress Level                 1.000000    0.670026     0.186829  \n",
      "Heart Rate                   0.670026    1.000000    -0.030309  \n",
      "Daily Steps                  0.186829   -0.030309     1.000000  \n"
     ]
    },
    {
     "name": "stderr",
     "output_type": "stream",
     "text": [
      "C:\\Users\\ragup\\AppData\\Local\\Temp\\ipykernel_20560\\224722625.py:10: FutureWarning: The default value of numeric_only in DataFrame.corr is deprecated. In a future version, it will default to False. Select only valid columns or specify the value of numeric_only to silence this warning.\n",
      "  print(df.corr())\n"
     ]
    }
   ],
   "source": [
    "import matplotlib.pyplot as plt\n",
    "\n",
    "# histogram of sleep duration\n",
    "df[\"Sleep Duration\"].hist(bins=20)\n",
    "plt.xlabel(\"Sleep Duration\")\n",
    "plt.ylabel(\"Count\")\n",
    "plt.show()\n",
    "\n",
    "# correlation matrix\n",
    "print(df.corr())\n"
   ]
  },
  {
   "cell_type": "code",
   "execution_count": null,
   "id": "433e5d32",
   "metadata": {},
   "outputs": [],
   "source": []
  }
 ],
 "metadata": {
  "kernelspec": {
   "display_name": "base",
   "language": "python",
   "name": "python3"
  },
  "language_info": {
   "codemirror_mode": {
    "name": "ipython",
    "version": 3
   },
   "file_extension": ".py",
   "mimetype": "text/x-python",
   "name": "python",
   "nbconvert_exporter": "python",
   "pygments_lexer": "ipython3",
   "version": "3.11.4"
  }
 },
 "nbformat": 4,
 "nbformat_minor": 5
}
